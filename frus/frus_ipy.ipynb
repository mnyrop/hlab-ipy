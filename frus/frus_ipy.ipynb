{
 "cells": [
  {
   "cell_type": "code",
   "execution_count": 1,
   "metadata": {
    "collapsed": true
   },
   "outputs": [],
   "source": [
    "#!/usr/declass/env/bin/python\n",
    "# -*- coding: utf-8 -*-\n",
    "\n",
    "import os\n",
    "import sys\n",
    "import pymysql\n",
    "import ConfigParser\n",
    "import pandas as pd\n",
    "\n",
    "# get config to connect to local dbs\n",
    "config = ConfigParser.RawConfigParser()\n",
    "config.readfp(open(r'../mylogin.cnf'))\n",
    "db_user = config.get('client', 'user')\n",
    "db_pass = config.get('client', 'password')\n",
    "\n",
    "frus_db = pymysql.connect(host='history-lab.org', user=db_user, passwd=db_pass, db=\"declassification_frus\", charset='utf8')\n",
    "\n",
    "persons = pd.read_sql(\"SELECT * FROM persons;\", con=frus_db)"
   ]
  },
  {
   "cell_type": "code",
   "execution_count": 2,
   "metadata": {},
   "outputs": [
    {
     "data": {
      "text/html": [
       "<div>\n",
       "<style>\n",
       "    .dataframe thead tr:only-child th {\n",
       "        text-align: right;\n",
       "    }\n",
       "\n",
       "    .dataframe thead th {\n",
       "        text-align: left;\n",
       "    }\n",
       "\n",
       "    .dataframe tbody tr th {\n",
       "        vertical-align: top;\n",
       "    }\n",
       "</style>\n",
       "<table border=\"1\" class=\"dataframe\">\n",
       "  <thead>\n",
       "    <tr style=\"text-align: right;\">\n",
       "      <th></th>\n",
       "      <th>id</th>\n",
       "      <th>name</th>\n",
       "      <th>birth_year</th>\n",
       "      <th>death_year</th>\n",
       "      <th>description</th>\n",
       "    </tr>\n",
       "  </thead>\n",
       "  <tbody>\n",
       "    <tr>\n",
       "      <th>0</th>\n",
       "      <td>100001</td>\n",
       "      <td>Aaron, David Laurence</td>\n",
       "      <td>1938.0</td>\n",
       "      <td>NaN</td>\n",
       "      <td>President’s Deputy Assistant for National Secu...</td>\n",
       "    </tr>\n",
       "    <tr>\n",
       "      <th>1</th>\n",
       "      <td>100002</td>\n",
       "      <td>Aaron, Harold R.</td>\n",
       "      <td>NaN</td>\n",
       "      <td>NaN</td>\n",
       "      <td>Major General, USA; Assistant Chief of Staff, ...</td>\n",
       "    </tr>\n",
       "    <tr>\n",
       "      <th>2</th>\n",
       "      <td>100003</td>\n",
       "      <td>Abaydi, Haamid al-</td>\n",
       "      <td>NaN</td>\n",
       "      <td>NaN</td>\n",
       "      <td>Libyan Defense Minister until September 1969</td>\n",
       "    </tr>\n",
       "    <tr>\n",
       "      <th>3</th>\n",
       "      <td>100004</td>\n",
       "      <td>Abbas, Ferhat</td>\n",
       "      <td>NaN</td>\n",
       "      <td>NaN</td>\n",
       "      <td>Prime Minister of the Provisional Government o...</td>\n",
       "    </tr>\n",
       "    <tr>\n",
       "      <th>4</th>\n",
       "      <td>100005</td>\n",
       "      <td>Abbas, M. M.</td>\n",
       "      <td>NaN</td>\n",
       "      <td>NaN</td>\n",
       "      <td>Director General for Americas and Europe, Mini...</td>\n",
       "    </tr>\n",
       "  </tbody>\n",
       "</table>\n",
       "</div>"
      ],
      "text/plain": [
       "       id                   name  birth_year  death_year  \\\n",
       "0  100001  Aaron, David Laurence      1938.0         NaN   \n",
       "1  100002       Aaron, Harold R.         NaN         NaN   \n",
       "2  100003     Abaydi, Haamid al-         NaN         NaN   \n",
       "3  100004          Abbas, Ferhat         NaN         NaN   \n",
       "4  100005           Abbas, M. M.         NaN         NaN   \n",
       "\n",
       "                                         description  \n",
       "0  President’s Deputy Assistant for National Secu...  \n",
       "1  Major General, USA; Assistant Chief of Staff, ...  \n",
       "2       Libyan Defense Minister until September 1969  \n",
       "3  Prime Minister of the Provisional Government o...  \n",
       "4  Director General for Americas and Europe, Mini...  "
      ]
     },
     "execution_count": 2,
     "metadata": {},
     "output_type": "execute_result"
    }
   ],
   "source": [
    "persons.head()"
   ]
  },
  {
   "cell_type": "code",
   "execution_count": 3,
   "metadata": {
    "collapsed": true
   },
   "outputs": [],
   "source": [
    "persons.to_csv('declass_persons.csv', encoding='utf8')"
   ]
  },
  {
   "cell_type": "code",
   "execution_count": 4,
   "metadata": {
    "collapsed": true
   },
   "outputs": [],
   "source": [
    "scientists = pd.read_sql(\"SELECT * FROM persons WHERE description LIKE '%scien%';\", con=frus_db)"
   ]
  },
  {
   "cell_type": "code",
   "execution_count": 5,
   "metadata": {},
   "outputs": [
    {
     "data": {
      "text/html": [
       "<div>\n",
       "<style>\n",
       "    .dataframe thead tr:only-child th {\n",
       "        text-align: right;\n",
       "    }\n",
       "\n",
       "    .dataframe thead th {\n",
       "        text-align: left;\n",
       "    }\n",
       "\n",
       "    .dataframe tbody tr th {\n",
       "        vertical-align: top;\n",
       "    }\n",
       "</style>\n",
       "<table border=\"1\" class=\"dataframe\">\n",
       "  <thead>\n",
       "    <tr style=\"text-align: right;\">\n",
       "      <th></th>\n",
       "      <th>id</th>\n",
       "      <th>name</th>\n",
       "      <th>birth_year</th>\n",
       "      <th>death_year</th>\n",
       "      <th>description</th>\n",
       "    </tr>\n",
       "  </thead>\n",
       "  <tbody>\n",
       "    <tr>\n",
       "      <th>0</th>\n",
       "      <td>100529</td>\n",
       "      <td>Arbatov, Georgi A.</td>\n",
       "      <td>NaN</td>\n",
       "      <td>NaN</td>\n",
       "      <td>Director, Soviet Institute for U.S.A. and Cana...</td>\n",
       "    </tr>\n",
       "    <tr>\n",
       "      <th>1</th>\n",
       "      <td>100538</td>\n",
       "      <td>Arculus, Ronald</td>\n",
       "      <td>NaN</td>\n",
       "      <td>NaN</td>\n",
       "      <td>Head of the Science and Technology Department,...</td>\n",
       "    </tr>\n",
       "    <tr>\n",
       "      <th>2</th>\n",
       "      <td>100591</td>\n",
       "      <td>Arneson, R. Gordon</td>\n",
       "      <td>NaN</td>\n",
       "      <td>NaN</td>\n",
       "      <td>Deputy Director of Intelligence and Research, ...</td>\n",
       "    </tr>\n",
       "    <tr>\n",
       "      <th>3</th>\n",
       "      <td>100660</td>\n",
       "      <td>Atkinson, Richard C.</td>\n",
       "      <td>NaN</td>\n",
       "      <td>NaN</td>\n",
       "      <td>Director of the National Science Foundation; A...</td>\n",
       "    </tr>\n",
       "    <tr>\n",
       "      <th>4</th>\n",
       "      <td>100688</td>\n",
       "      <td>Averch, Harvey A.</td>\n",
       "      <td>NaN</td>\n",
       "      <td>NaN</td>\n",
       "      <td>economist; Assistant Director for Science Educ...</td>\n",
       "    </tr>\n",
       "  </tbody>\n",
       "</table>\n",
       "</div>"
      ],
      "text/plain": [
       "       id                  name  birth_year  death_year  \\\n",
       "0  100529    Arbatov, Georgi A.         NaN         NaN   \n",
       "1  100538       Arculus, Ronald         NaN         NaN   \n",
       "2  100591    Arneson, R. Gordon         NaN         NaN   \n",
       "3  100660  Atkinson, Richard C.         NaN         NaN   \n",
       "4  100688     Averch, Harvey A.         NaN         NaN   \n",
       "\n",
       "                                         description  \n",
       "0  Director, Soviet Institute for U.S.A. and Cana...  \n",
       "1  Head of the Science and Technology Department,...  \n",
       "2  Deputy Director of Intelligence and Research, ...  \n",
       "3  Director of the National Science Foundation; A...  \n",
       "4  economist; Assistant Director for Science Educ...  "
      ]
     },
     "execution_count": 5,
     "metadata": {},
     "output_type": "execute_result"
    }
   ],
   "source": [
    "scientists.head()"
   ]
  },
  {
   "cell_type": "code",
   "execution_count": 6,
   "metadata": {
    "collapsed": true
   },
   "outputs": [],
   "source": [
    "scientists['description'] = scientists['description'].str.lower()\n",
    "scientists['name'] = scientists['name'].str.lower()\n",
    "scientists = scientists[['id', 'name', 'description']]"
   ]
  },
  {
   "cell_type": "code",
   "execution_count": 7,
   "metadata": {},
   "outputs": [
    {
     "data": {
      "text/html": [
       "<div>\n",
       "<style>\n",
       "    .dataframe thead tr:only-child th {\n",
       "        text-align: right;\n",
       "    }\n",
       "\n",
       "    .dataframe thead th {\n",
       "        text-align: left;\n",
       "    }\n",
       "\n",
       "    .dataframe tbody tr th {\n",
       "        vertical-align: top;\n",
       "    }\n",
       "</style>\n",
       "<table border=\"1\" class=\"dataframe\">\n",
       "  <thead>\n",
       "    <tr style=\"text-align: right;\">\n",
       "      <th></th>\n",
       "      <th>id</th>\n",
       "      <th>name</th>\n",
       "      <th>description</th>\n",
       "    </tr>\n",
       "  </thead>\n",
       "  <tbody>\n",
       "    <tr>\n",
       "      <th>0</th>\n",
       "      <td>100529</td>\n",
       "      <td>arbatov, georgi a.</td>\n",
       "      <td>director, soviet institute for u.s.a. and cana...</td>\n",
       "    </tr>\n",
       "    <tr>\n",
       "      <th>15</th>\n",
       "      <td>101381</td>\n",
       "      <td>blagonravov, anatoliy arkadievich</td>\n",
       "      <td>academician and chairman of the commission on ...</td>\n",
       "    </tr>\n",
       "    <tr>\n",
       "      <th>90</th>\n",
       "      <td>106987</td>\n",
       "      <td>keldysh, mstislav v.</td>\n",
       "      <td>president, soviet academy of sciences; preside...</td>\n",
       "    </tr>\n",
       "    <tr>\n",
       "      <th>91</th>\n",
       "      <td>107019</td>\n",
       "      <td>kennan, george frost</td>\n",
       "      <td>historian; director, policy planning staff and...</td>\n",
       "    </tr>\n",
       "    <tr>\n",
       "      <th>95</th>\n",
       "      <td>107227</td>\n",
       "      <td>kirillin, vladimir a.</td>\n",
       "      <td>chairman of the state committee of the ussr co...</td>\n",
       "    </tr>\n",
       "    <tr>\n",
       "      <th>114</th>\n",
       "      <td>108431</td>\n",
       "      <td>malone, thomas</td>\n",
       "      <td>representative, national academy of sciences, ...</td>\n",
       "    </tr>\n",
       "    <tr>\n",
       "      <th>124</th>\n",
       "      <td>109409</td>\n",
       "      <td>morozov, platon dmitrievich</td>\n",
       "      <td>soviet deputy permanent representative to the ...</td>\n",
       "    </tr>\n",
       "    <tr>\n",
       "      <th>159</th>\n",
       "      <td>111819</td>\n",
       "      <td>sakharov, andrei dmitrievich</td>\n",
       "      <td>soviet dissident; soviet dissident; nobel peac...</td>\n",
       "    </tr>\n",
       "    <tr>\n",
       "      <th>172</th>\n",
       "      <td>112330</td>\n",
       "      <td>shchukin, aleksandr n.</td>\n",
       "      <td>member of the soviet salt delegation; soviet s...</td>\n",
       "    </tr>\n",
       "  </tbody>\n",
       "</table>\n",
       "</div>"
      ],
      "text/plain": [
       "         id                               name  \\\n",
       "0    100529                 arbatov, georgi a.   \n",
       "15   101381  blagonravov, anatoliy arkadievich   \n",
       "90   106987               keldysh, mstislav v.   \n",
       "91   107019               kennan, george frost   \n",
       "95   107227              kirillin, vladimir a.   \n",
       "114  108431                     malone, thomas   \n",
       "124  109409        morozov, platon dmitrievich   \n",
       "159  111819       sakharov, andrei dmitrievich   \n",
       "172  112330             shchukin, aleksandr n.   \n",
       "\n",
       "                                           description  \n",
       "0    director, soviet institute for u.s.a. and cana...  \n",
       "15   academician and chairman of the commission on ...  \n",
       "90   president, soviet academy of sciences; preside...  \n",
       "91   historian; director, policy planning staff and...  \n",
       "95   chairman of the state committee of the ussr co...  \n",
       "114  representative, national academy of sciences, ...  \n",
       "124  soviet deputy permanent representative to the ...  \n",
       "159  soviet dissident; soviet dissident; nobel peac...  \n",
       "172  member of the soviet salt delegation; soviet s...  "
      ]
     },
     "execution_count": 7,
     "metadata": {},
     "output_type": "execute_result"
    }
   ],
   "source": [
    "soviet_scientists = scientists[scientists['description'].str.contains(\"soviet\")]\n",
    "soviet_scientists"
   ]
  },
  {
   "cell_type": "code",
   "execution_count": 8,
   "metadata": {},
   "outputs": [
    {
     "data": {
      "text/plain": [
       "\"('100529', '101381', '106987', '107019', '107227', '108431', '109409', '111819', '112330')\""
      ]
     },
     "execution_count": 8,
     "metadata": {},
     "output_type": "execute_result"
    }
   ],
   "source": [
    "sovsci_ids = str(list(soviet_scientists['id'].astype(int).astype(str).values)).replace(\"[\", \"(\").replace(\"]\", \")\")\n",
    "sovsci_ids"
   ]
  },
  {
   "cell_type": "code",
   "execution_count": 9,
   "metadata": {
    "collapsed": true
   },
   "outputs": [],
   "source": [
    "sovsci_person_doc = pd.read_sql(\"SELECT doc_id FROM person_doc WHERE person_id IN\" + sovsci_ids + \";\", con=frus_db)"
   ]
  },
  {
   "cell_type": "code",
   "execution_count": 10,
   "metadata": {
    "collapsed": true
   },
   "outputs": [],
   "source": [
    "sovsci_doc_ids = str(list(sovsci_person_doc['doc_id'].astype(str).values)).replace(\"[\", \"(\").replace(\"]\", \")\")"
   ]
  },
  {
   "cell_type": "code",
   "execution_count": 11,
   "metadata": {
    "collapsed": true
   },
   "outputs": [],
   "source": [
    "sovsci_docs = pd.read_sql(\"SELECT * FROM docs WHERE id IN\" + sovsci_doc_ids + \";\", con=frus_db)"
   ]
  },
  {
   "cell_type": "code",
   "execution_count": 12,
   "metadata": {},
   "outputs": [
    {
     "data": {
      "text/html": [
       "<div>\n",
       "<style>\n",
       "    .dataframe thead tr:only-child th {\n",
       "        text-align: right;\n",
       "    }\n",
       "\n",
       "    .dataframe thead th {\n",
       "        text-align: left;\n",
       "    }\n",
       "\n",
       "    .dataframe tbody tr th {\n",
       "        vertical-align: top;\n",
       "    }\n",
       "</style>\n",
       "<table border=\"1\" class=\"dataframe\">\n",
       "  <thead>\n",
       "    <tr style=\"text-align: right;\">\n",
       "      <th></th>\n",
       "      <th>id</th>\n",
       "      <th>volume_id</th>\n",
       "      <th>chapt_title</th>\n",
       "      <th>title</th>\n",
       "      <th>title_docview</th>\n",
       "      <th>subject</th>\n",
       "      <th>date</th>\n",
       "      <th>location</th>\n",
       "      <th>p_from</th>\n",
       "      <th>p_to</th>\n",
       "      <th>source</th>\n",
       "      <th>classification</th>\n",
       "      <th>body</th>\n",
       "      <th>raw_body</th>\n",
       "      <th>collection</th>\n",
       "    </tr>\n",
       "  </thead>\n",
       "  <tbody>\n",
       "    <tr>\n",
       "      <th>0</th>\n",
       "      <td>frus1943CairoTehrand303</td>\n",
       "      <td>frus1943CairoTehran</td>\n",
       "      <td>6. Conference Documents and Supplementary Papers:</td>\n",
       "      <td>The Secretary of\\n                            ...</td>\n",
       "      <td>The Secretary of\\n                            ...</td>\n",
       "      <td>None</td>\n",
       "      <td>1943-11-24</td>\n",
       "      <td>Washington</td>\n",
       "      <td>None</td>\n",
       "      <td>None</td>\n",
       "      <td>None</td>\n",
       "      <td>None</td>\n",
       "      <td>&lt;div collection=\"frus\"&gt;\\n&lt;a href=\"#frus1943Cai...</td>\n",
       "      <td>\\n \\nsecret\\nFor the President from Secretary ...</td>\n",
       "      <td>frus</td>\n",
       "    </tr>\n",
       "    <tr>\n",
       "      <th>1</th>\n",
       "      <td>frus1943CairoTehrand466</td>\n",
       "      <td>frus1943CairoTehran</td>\n",
       "      <td>13. Conference Documents and Supplementary Pap...</td>\n",
       "      <td>The Secretary of\\n                            ...</td>\n",
       "      <td>The Secretary of\\n                            ...</td>\n",
       "      <td>None</td>\n",
       "      <td>1943-12-02</td>\n",
       "      <td>Washington</td>\n",
       "      <td>None</td>\n",
       "      <td>None</td>\n",
       "      <td>None</td>\n",
       "      <td>None</td>\n",
       "      <td>&lt;div collection=\"frus\"&gt;\\n&lt;a href=\"#frus1943Cai...</td>\n",
       "      <td>\\n \\nsecret\\nFor the President From Secretary ...</td>\n",
       "      <td>frus</td>\n",
       "    </tr>\n",
       "    <tr>\n",
       "      <th>2</th>\n",
       "      <td>frus1943CairoTehrand480</td>\n",
       "      <td>frus1943CairoTehran</td>\n",
       "      <td>13. Conference Documents and Supplementary Pap...</td>\n",
       "      <td>The Secretary of\\n                            ...</td>\n",
       "      <td>The Secretary of\\n                            ...</td>\n",
       "      <td>None</td>\n",
       "      <td>1943-12-04</td>\n",
       "      <td>Washington</td>\n",
       "      <td>None</td>\n",
       "      <td>None</td>\n",
       "      <td>None</td>\n",
       "      <td>None</td>\n",
       "      <td>&lt;div collection=\"frus\"&gt;\\n&lt;a href=\"#frus1943Cai...</td>\n",
       "      <td>\\n\\nMemorandum for the President From the Secr...</td>\n",
       "      <td>frus</td>\n",
       "    </tr>\n",
       "    <tr>\n",
       "      <th>3</th>\n",
       "      <td>frus1945-50Inteld154</td>\n",
       "      <td>frus1945-50Intel</td>\n",
       "      <td>Souers' Tenure as Director of Central\\n       ...</td>\n",
       "      <td>154. Memorandum From the Director of Central I...</td>\n",
       "      <td>154. Memorandum From the Director of Central I...</td>\n",
       "      <td>Progress Report on the Central Intelligence Group</td>\n",
       "      <td>1946-06-07</td>\n",
       "      <td>Washington</td>\n",
       "      <td>Souers</td>\n",
       "      <td>None</td>\n",
       "      <td>Source: Central Intelligence Agency Historical...</td>\n",
       "      <td>Top Secret</td>\n",
       "      <td>&lt;div collection=\"frus\"&gt; &lt;p&gt;\\n1. Establishment\\...</td>\n",
       "      <td>\\n1. Establishment\\n\\nThe Central Intelligenc...</td>\n",
       "      <td>frus</td>\n",
       "    </tr>\n",
       "    <tr>\n",
       "      <th>4</th>\n",
       "      <td>frus1945-50Inteld256</td>\n",
       "      <td>frus1945-50Intel</td>\n",
       "      <td>Psychological and Political Warfare</td>\n",
       "      <td>256. Department of State Briefing Memorandum</td>\n",
       "      <td>256. Department of State Briefing Memorandum&lt;a...</td>\n",
       "      <td>Report to National Security Council on Coordin...</td>\n",
       "      <td>1947-12-17</td>\n",
       "      <td>Washington</td>\n",
       "      <td>None</td>\n",
       "      <td>None</td>\n",
       "      <td>Source: National Archives and Records Administ...</td>\n",
       "      <td>Top Secret</td>\n",
       "      <td>&lt;div collection=\"frus\"&gt; &lt;p&gt;COORDINATION OF FOR...</td>\n",
       "      <td>COORDINATION OF FOREIGN INFORMATION MEASURES ...</td>\n",
       "      <td>frus</td>\n",
       "    </tr>\n",
       "  </tbody>\n",
       "</table>\n",
       "</div>"
      ],
      "text/plain": [
       "                        id            volume_id  \\\n",
       "0  frus1943CairoTehrand303  frus1943CairoTehran   \n",
       "1  frus1943CairoTehrand466  frus1943CairoTehran   \n",
       "2  frus1943CairoTehrand480  frus1943CairoTehran   \n",
       "3     frus1945-50Inteld154     frus1945-50Intel   \n",
       "4     frus1945-50Inteld256     frus1945-50Intel   \n",
       "\n",
       "                                         chapt_title  \\\n",
       "0  6. Conference Documents and Supplementary Papers:   \n",
       "1  13. Conference Documents and Supplementary Pap...   \n",
       "2  13. Conference Documents and Supplementary Pap...   \n",
       "3  Souers' Tenure as Director of Central\\n       ...   \n",
       "4                Psychological and Political Warfare   \n",
       "\n",
       "                                               title  \\\n",
       "0  The Secretary of\\n                            ...   \n",
       "1  The Secretary of\\n                            ...   \n",
       "2  The Secretary of\\n                            ...   \n",
       "3  154. Memorandum From the Director of Central I...   \n",
       "4       256. Department of State Briefing Memorandum   \n",
       "\n",
       "                                       title_docview  \\\n",
       "0  The Secretary of\\n                            ...   \n",
       "1  The Secretary of\\n                            ...   \n",
       "2  The Secretary of\\n                            ...   \n",
       "3  154. Memorandum From the Director of Central I...   \n",
       "4  256. Department of State Briefing Memorandum<a...   \n",
       "\n",
       "                                             subject       date    location  \\\n",
       "0                                               None 1943-11-24  Washington   \n",
       "1                                               None 1943-12-02  Washington   \n",
       "2                                               None 1943-12-04  Washington   \n",
       "3  Progress Report on the Central Intelligence Group 1946-06-07  Washington   \n",
       "4  Report to National Security Council on Coordin... 1947-12-17  Washington   \n",
       "\n",
       "   p_from  p_to                                             source  \\\n",
       "0    None  None                                               None   \n",
       "1    None  None                                               None   \n",
       "2    None  None                                               None   \n",
       "3  Souers  None  Source: Central Intelligence Agency Historical...   \n",
       "4    None  None  Source: National Archives and Records Administ...   \n",
       "\n",
       "  classification                                               body  \\\n",
       "0           None  <div collection=\"frus\">\\n<a href=\"#frus1943Cai...   \n",
       "1           None  <div collection=\"frus\">\\n<a href=\"#frus1943Cai...   \n",
       "2           None  <div collection=\"frus\">\\n<a href=\"#frus1943Cai...   \n",
       "3     Top Secret  <div collection=\"frus\"> <p>\\n1. Establishment\\...   \n",
       "4     Top Secret  <div collection=\"frus\"> <p>COORDINATION OF FOR...   \n",
       "\n",
       "                                            raw_body collection  \n",
       "0  \\n \\nsecret\\nFor the President from Secretary ...       frus  \n",
       "1  \\n \\nsecret\\nFor the President From Secretary ...       frus  \n",
       "2  \\n\\nMemorandum for the President From the Secr...       frus  \n",
       "3   \\n1. Establishment\\n\\nThe Central Intelligenc...       frus  \n",
       "4   COORDINATION OF FOREIGN INFORMATION MEASURES ...       frus  "
      ]
     },
     "execution_count": 12,
     "metadata": {},
     "output_type": "execute_result"
    }
   ],
   "source": [
    "sovsci_docs.head()"
   ]
  },
  {
   "cell_type": "code",
   "execution_count": 13,
   "metadata": {
    "collapsed": true
   },
   "outputs": [],
   "source": [
    "sovsci_term_doc = pd.read_sql(\"SELECT * FROM term_doc WHERE doc_id IN\" + sovsci_doc_ids + \";\", con=frus_db)"
   ]
  },
  {
   "cell_type": "code",
   "execution_count": 14,
   "metadata": {},
   "outputs": [
    {
     "data": {
      "text/html": [
       "<div>\n",
       "<style>\n",
       "    .dataframe thead tr:only-child th {\n",
       "        text-align: right;\n",
       "    }\n",
       "\n",
       "    .dataframe thead th {\n",
       "        text-align: left;\n",
       "    }\n",
       "\n",
       "    .dataframe tbody tr th {\n",
       "        vertical-align: top;\n",
       "    }\n",
       "</style>\n",
       "<table border=\"1\" class=\"dataframe\">\n",
       "  <thead>\n",
       "    <tr style=\"text-align: right;\">\n",
       "      <th></th>\n",
       "      <th>term_id</th>\n",
       "      <th>doc_id</th>\n",
       "      <th>term_count</th>\n",
       "    </tr>\n",
       "  </thead>\n",
       "  <tbody>\n",
       "    <tr>\n",
       "      <th>0</th>\n",
       "      <td>t_CIG1</td>\n",
       "      <td>frus1945-50Inteld154</td>\n",
       "      <td>28</td>\n",
       "    </tr>\n",
       "    <tr>\n",
       "      <th>1</th>\n",
       "      <td>t_JANIS1</td>\n",
       "      <td>frus1945-50Inteld154</td>\n",
       "      <td>1</td>\n",
       "    </tr>\n",
       "    <tr>\n",
       "      <th>2</th>\n",
       "      <td>t_NIA1</td>\n",
       "      <td>frus1945-50Inteld154</td>\n",
       "      <td>4</td>\n",
       "    </tr>\n",
       "    <tr>\n",
       "      <th>3</th>\n",
       "      <td>t_JCS1</td>\n",
       "      <td>frus1945-50Inteld256</td>\n",
       "      <td>1</td>\n",
       "    </tr>\n",
       "    <tr>\n",
       "      <th>4</th>\n",
       "      <td>t_NSC1</td>\n",
       "      <td>frus1945-50Inteld256</td>\n",
       "      <td>10</td>\n",
       "    </tr>\n",
       "  </tbody>\n",
       "</table>\n",
       "</div>"
      ],
      "text/plain": [
       "    term_id                doc_id  term_count\n",
       "0    t_CIG1  frus1945-50Inteld154          28\n",
       "1  t_JANIS1  frus1945-50Inteld154           1\n",
       "2    t_NIA1  frus1945-50Inteld154           4\n",
       "3    t_JCS1  frus1945-50Inteld256           1\n",
       "4    t_NSC1  frus1945-50Inteld256          10"
      ]
     },
     "execution_count": 14,
     "metadata": {},
     "output_type": "execute_result"
    }
   ],
   "source": [
    "sovsci_term_doc.head()"
   ]
  },
  {
   "cell_type": "code",
   "execution_count": 15,
   "metadata": {
    "collapsed": true
   },
   "outputs": [],
   "source": [
    "sovsci_term_ids = str(list(sovsci_term_doc['term_id'].astype(str).values)).replace(\"[\", \"(\").replace(\"]\", \")\")"
   ]
  },
  {
   "cell_type": "code",
   "execution_count": 16,
   "metadata": {
    "collapsed": true
   },
   "outputs": [],
   "source": [
    "sovsci_terms = pd.read_sql(\"SELECT * FROM terms WHERE id IN\" + sovsci_term_ids + \";\", con=frus_db)"
   ]
  },
  {
   "cell_type": "code",
   "execution_count": 17,
   "metadata": {},
   "outputs": [
    {
     "data": {
      "text/html": [
       "<div>\n",
       "<style>\n",
       "    .dataframe thead tr:only-child th {\n",
       "        text-align: right;\n",
       "    }\n",
       "\n",
       "    .dataframe thead th {\n",
       "        text-align: left;\n",
       "    }\n",
       "\n",
       "    .dataframe tbody tr th {\n",
       "        vertical-align: top;\n",
       "    }\n",
       "</style>\n",
       "<table border=\"1\" class=\"dataframe\">\n",
       "  <thead>\n",
       "    <tr style=\"text-align: right;\">\n",
       "      <th></th>\n",
       "      <th>id</th>\n",
       "      <th>acronym</th>\n",
       "      <th>def</th>\n",
       "    </tr>\n",
       "  </thead>\n",
       "  <tbody>\n",
       "    <tr>\n",
       "      <th>0</th>\n",
       "      <td>t_A1</td>\n",
       "      <td>A</td>\n",
       "      <td>Office of the Assistant (after October 3, 1949...</td>\n",
       "    </tr>\n",
       "    <tr>\n",
       "      <th>1</th>\n",
       "      <td>t_ABM1</td>\n",
       "      <td>ABM</td>\n",
       "      <td>anti-ballistic missile system</td>\n",
       "    </tr>\n",
       "    <tr>\n",
       "      <th>2</th>\n",
       "      <td>t_ACC1</td>\n",
       "      <td>ACC</td>\n",
       "      <td>Administrative Committee on Coordination, UN E...</td>\n",
       "    </tr>\n",
       "    <tr>\n",
       "      <th>3</th>\n",
       "      <td>t_ACDA1</td>\n",
       "      <td>ACDA</td>\n",
       "      <td>United States Arms Control and Disarmament Agency</td>\n",
       "    </tr>\n",
       "    <tr>\n",
       "      <th>4</th>\n",
       "      <td>t_AEC1</td>\n",
       "      <td>AEC</td>\n",
       "      <td>Atomic Energy Commission AID, Agency for Inter...</td>\n",
       "    </tr>\n",
       "  </tbody>\n",
       "</table>\n",
       "</div>"
      ],
      "text/plain": [
       "        id acronym                                                def\n",
       "0     t_A1       A  Office of the Assistant (after October 3, 1949...\n",
       "1   t_ABM1     ABM                      anti-ballistic missile system\n",
       "2   t_ACC1     ACC  Administrative Committee on Coordination, UN E...\n",
       "3  t_ACDA1    ACDA  United States Arms Control and Disarmament Agency\n",
       "4   t_AEC1     AEC  Atomic Energy Commission AID, Agency for Inter..."
      ]
     },
     "execution_count": 17,
     "metadata": {},
     "output_type": "execute_result"
    }
   ],
   "source": [
    "sovsci_terms.head()"
   ]
  },
  {
   "cell_type": "code",
   "execution_count": 18,
   "metadata": {
    "collapsed": true
   },
   "outputs": [],
   "source": [
    "sakharov_person_docs = sovsci_person_doc = pd.read_sql(\"SELECT doc_id FROM person_doc WHERE person_id='111819';\", con=frus_db)\n",
    "sakharov_doc_ids = str(list(sakharov_person_docs['doc_id'].astype(str).values)).replace(\"[\", \"(\").replace(\"]\", \")\")"
   ]
  },
  {
   "cell_type": "code",
   "execution_count": 19,
   "metadata": {
    "collapsed": true
   },
   "outputs": [],
   "source": [
    "sakharov_term_doc = pd.read_sql(\"SELECT * FROM term_doc WHERE doc_id IN\" + sakharov_doc_ids + \";\", con=frus_db)\n",
    "sakharov_term_ids = str(list(sakharov_term_doc['term_id'].astype(str).values)).replace(\"[\", \"(\").replace(\"]\", \")\")"
   ]
  },
  {
   "cell_type": "code",
   "execution_count": 20,
   "metadata": {},
   "outputs": [
    {
     "data": {
      "text/html": [
       "<div>\n",
       "<style>\n",
       "    .dataframe thead tr:only-child th {\n",
       "        text-align: right;\n",
       "    }\n",
       "\n",
       "    .dataframe thead th {\n",
       "        text-align: left;\n",
       "    }\n",
       "\n",
       "    .dataframe tbody tr th {\n",
       "        vertical-align: top;\n",
       "    }\n",
       "</style>\n",
       "<table border=\"1\" class=\"dataframe\">\n",
       "  <thead>\n",
       "    <tr style=\"text-align: right;\">\n",
       "      <th></th>\n",
       "      <th>id</th>\n",
       "      <th>acronym</th>\n",
       "      <th>def</th>\n",
       "    </tr>\n",
       "  </thead>\n",
       "  <tbody>\n",
       "    <tr>\n",
       "      <th>0</th>\n",
       "      <td>t_AP_1</td>\n",
       "      <td>AP</td>\n",
       "      <td>Associated Press</td>\n",
       "    </tr>\n",
       "    <tr>\n",
       "      <th>1</th>\n",
       "      <td>t_ARA_1</td>\n",
       "      <td>ARA</td>\n",
       "      <td>or ARA/LA, Bureau of Inter-American Affairs, D...</td>\n",
       "    </tr>\n",
       "    <tr>\n",
       "      <th>2</th>\n",
       "      <td>t_ASNE_1</td>\n",
       "      <td>ASNE</td>\n",
       "      <td>American Society of Newspaper Editors</td>\n",
       "    </tr>\n",
       "    <tr>\n",
       "      <th>3</th>\n",
       "      <td>t_B1_1</td>\n",
       "      <td>B-1</td>\n",
       "      <td>American long-range bomber\\nBA, Bachelor of Ar...</td>\n",
       "    </tr>\n",
       "    <tr>\n",
       "      <th>4</th>\n",
       "      <td>t_CBS_1</td>\n",
       "      <td>CBS</td>\n",
       "      <td>Columbia Broadcasting System</td>\n",
       "    </tr>\n",
       "  </tbody>\n",
       "</table>\n",
       "</div>"
      ],
      "text/plain": [
       "         id acronym                                                def\n",
       "0    t_AP_1      AP                                   Associated Press\n",
       "1   t_ARA_1     ARA  or ARA/LA, Bureau of Inter-American Affairs, D...\n",
       "2  t_ASNE_1    ASNE              American Society of Newspaper Editors\n",
       "3    t_B1_1     B-1  American long-range bomber\\nBA, Bachelor of Ar...\n",
       "4   t_CBS_1     CBS                       Columbia Broadcasting System"
      ]
     },
     "execution_count": 20,
     "metadata": {},
     "output_type": "execute_result"
    }
   ],
   "source": [
    "sakharov_terms = pd.read_sql(\"SELECT * FROM terms WHERE id IN\" + sakharov_term_ids + \";\", con=frus_db)\n",
    "sakharov_terms.head()"
   ]
  },
  {
   "cell_type": "code",
   "execution_count": 21,
   "metadata": {
    "collapsed": true
   },
   "outputs": [],
   "source": [
    "# sakharov_terms.to_csv('sakharov_terms.csv',encoding='utf8')"
   ]
  },
  {
   "cell_type": "code",
   "execution_count": 22,
   "metadata": {
    "collapsed": true
   },
   "outputs": [],
   "source": [
    "total_terms = pd.read_sql(\"SELECT * FROM terms;\", con=frus_db)\n",
    "# total_terms.to_csv('frus_terms.csv',encoding='utf8')"
   ]
  },
  {
   "cell_type": "code",
   "execution_count": 23,
   "metadata": {
    "collapsed": true
   },
   "outputs": [],
   "source": [
    "total_term_doc = pd.read_sql(\"SELECT * FROM term_doc;\", con=frus_db)\n",
    "# total_term_doc.to_csv('frus_term_doc.csv',encoding='utf8')"
   ]
  },
  {
   "cell_type": "code",
   "execution_count": null,
   "metadata": {
    "collapsed": true
   },
   "outputs": [],
   "source": []
  }
 ],
 "metadata": {
  "kernelspec": {
   "display_name": "Python 2",
   "language": "python",
   "name": "python2"
  },
  "language_info": {
   "codemirror_mode": {
    "name": "ipython",
    "version": 2
   },
   "file_extension": ".py",
   "mimetype": "text/x-python",
   "name": "python",
   "nbconvert_exporter": "python",
   "pygments_lexer": "ipython2",
   "version": "2.7.13"
  }
 },
 "nbformat": 4,
 "nbformat_minor": 2
}
