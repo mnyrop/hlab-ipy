{
 "cells": [
  {
   "cell_type": "code",
   "execution_count": 1,
   "metadata": {},
   "outputs": [],
   "source": [
    "from bs4 import BeautifulSoup\n",
    "from os.path import expanduser\n",
    "import os\n",
    "from tqdm import tqdm\n",
    "import pandas as pd\n",
    "import requests\n",
    "import urllib3\n",
    "import time\n",
    "import lxml"
   ]
  },
  {
   "cell_type": "code",
   "execution_count": 2,
   "metadata": {},
   "outputs": [],
   "source": [
    "BASEURL = \"https://www.cia.gov\"\n",
    "\n",
    "SCIAB = ['scientific-abstracts', 1653]\n",
    "GREC = ['general-cia-records', 38439]\n",
    "JPRS = ['jprs', 127]\n",
    "LOC = ['library-congress', 394]\n",
    "NIS = ['nis', 22]\n",
    "\n",
    "FIELDS = ['id','title','classification','publication_date','page_count','content_type']"
   ]
  },
  {
   "cell_type": "code",
   "execution_count": 3,
   "metadata": {},
   "outputs": [],
   "source": [
    "def gather_meta(pager):\n",
    "    df = pd.DataFrame(columns=FIELDS)\n",
    "    idx = 0\n",
    "    \n",
    "    for i in tqdm(range(pager[1])):\n",
    "        \n",
    "        pagination_link = BASEURL + '/library/readingroom/collection/' + pager[0] + '?page=' + str(i)\n",
    "        pagination_page = requests.get(pagination_link)\n",
    "        p_soup = BeautifulSoup(pagination_page.content, 'lxml') # pagination soup\n",
    "        \n",
    "        for doc in p_soup.find_all(\"h4\", class_=\"field-content\"):\n",
    "            \n",
    "            PUB_DATE, ID, CLASSIFICATION, PAGE_COUNT, CONTENT_TYPE = \"\"\n",
    "            \n",
    "            a = doc.select_one(\"a\")\n",
    "            link = str(a.get('href'))\n",
    "            TITLE = str(a.string or \"\")\n",
    "            \n",
    "            doc_page = requests.get(BASEURL + link)\n",
    "            m_soup = BeautifulSoup(doc_page.content, 'lxml') # metadata soup\n",
    "            time.sleep (.05)\n",
    "        \n",
    "            try:\n",
    "                PUB_DATE = str(m_soup.select_one(\".field-name-field-pub-date\").select_one(\"span\").get('content'))\n",
    "                ID = str(m_soup.select_one(\".field-name-field-document-number\").select_one(\".field-item\").string)\n",
    "                CLASSIFICATION = str(m_soup.select_one(\".field-name-field-original-classification\").select_one(\".field-item\").string)\n",
    "                PAGE_COUNT = str(m_soup.select_one(\".field-name-field-page-count\").select_one(\".field-item\").string)\n",
    "                CONTENT_TYPE = str(m_soup.select_one(\".field-name-field-content-type\").select_one(\".field-item\").string)\n",
    "            \n",
    "            df.loc[idx] = [ID, TITLE, CLASSIFICATION, PUB_DATE, PAGE_COUNT, CONTENT_TYPE]\n",
    "            idx+=1  \n",
    "            \n",
    "    return df"
   ]
  },
  {
   "cell_type": "code",
   "execution_count": 4,
   "metadata": {},
   "outputs": [],
   "source": [
    "def totalpages(df):\n",
    "    return df.page_count.astype(int).sum()"
   ]
  },
  {
   "cell_type": "code",
   "execution_count": 5,
   "metadata": {},
   "outputs": [],
   "source": [
    "def values(df, col):\n",
    "    return str(df[col].unique())"
   ]
  },
  {
   "cell_type": "code",
   "execution_count": 6,
   "metadata": {},
   "outputs": [
    {
     "name": "stderr",
     "output_type": "stream",
     "text": [
      "100%|██████████| 127/127 [39:26<00:00, 18.63s/it]\n"
     ]
    },
    {
     "data": {
      "text/html": [
       "<div>\n",
       "<style scoped>\n",
       "    .dataframe tbody tr th:only-of-type {\n",
       "        vertical-align: middle;\n",
       "    }\n",
       "\n",
       "    .dataframe tbody tr th {\n",
       "        vertical-align: top;\n",
       "    }\n",
       "\n",
       "    .dataframe thead th {\n",
       "        text-align: right;\n",
       "    }\n",
       "</style>\n",
       "<table border=\"1\" class=\"dataframe\">\n",
       "  <thead>\n",
       "    <tr style=\"text-align: right;\">\n",
       "      <th></th>\n",
       "      <th>id</th>\n",
       "      <th>title</th>\n",
       "      <th>classification</th>\n",
       "      <th>publication_date</th>\n",
       "      <th>page_count</th>\n",
       "      <th>content_type</th>\n",
       "    </tr>\n",
       "  </thead>\n",
       "  <tbody>\n",
       "    <tr>\n",
       "      <th>0</th>\n",
       "      <td>CIA-RDP82-00850R000400050051-6</td>\n",
       "      <td>JPRS ID: 10001  USSR REPORT ECONOMIC AFFAIRS D...</td>\n",
       "      <td>U</td>\n",
       "      <td></td>\n",
       "      <td>31</td>\n",
       "      <td>REPORTS</td>\n",
       "    </tr>\n",
       "    <tr>\n",
       "      <th>1</th>\n",
       "      <td>CIA-RDP82-00850R000400050053-4</td>\n",
       "      <td>JPRS ID: 10003  SOUTH AND EAST ASIA REPORT</td>\n",
       "      <td>U</td>\n",
       "      <td></td>\n",
       "      <td>17</td>\n",
       "      <td>REPORTS</td>\n",
       "    </tr>\n",
       "    <tr>\n",
       "      <th>2</th>\n",
       "      <td>CIA-RDP82-00850R000400050055-2</td>\n",
       "      <td>JPRS ID: 10005  CHINA REPORT POLITICAL, SOCIOL...</td>\n",
       "      <td>U</td>\n",
       "      <td></td>\n",
       "      <td>42</td>\n",
       "      <td>REPORTS</td>\n",
       "    </tr>\n",
       "    <tr>\n",
       "      <th>3</th>\n",
       "      <td>CIA-RDP82-00850R000400050057-0</td>\n",
       "      <td>JPRS ID: 10007  WEST EUROPE REPORT</td>\n",
       "      <td>U</td>\n",
       "      <td></td>\n",
       "      <td>33</td>\n",
       "      <td>REPORTS</td>\n",
       "    </tr>\n",
       "    <tr>\n",
       "      <th>4</th>\n",
       "      <td>CIA-RDP82-00850R000400050058-9</td>\n",
       "      <td>JPRS ID: 10008  SUB-SAHARAN AFRICA REPORT</td>\n",
       "      <td>U</td>\n",
       "      <td></td>\n",
       "      <td>72</td>\n",
       "      <td>REPORTS</td>\n",
       "    </tr>\n",
       "  </tbody>\n",
       "</table>\n",
       "</div>"
      ],
      "text/plain": [
       "                               id  \\\n",
       "0  CIA-RDP82-00850R000400050051-6   \n",
       "1  CIA-RDP82-00850R000400050053-4   \n",
       "2  CIA-RDP82-00850R000400050055-2   \n",
       "3  CIA-RDP82-00850R000400050057-0   \n",
       "4  CIA-RDP82-00850R000400050058-9   \n",
       "\n",
       "                                               title classification  \\\n",
       "0  JPRS ID: 10001  USSR REPORT ECONOMIC AFFAIRS D...              U   \n",
       "1         JPRS ID: 10003  SOUTH AND EAST ASIA REPORT              U   \n",
       "2  JPRS ID: 10005  CHINA REPORT POLITICAL, SOCIOL...              U   \n",
       "3                 JPRS ID: 10007  WEST EUROPE REPORT              U   \n",
       "4          JPRS ID: 10008  SUB-SAHARAN AFRICA REPORT              U   \n",
       "\n",
       "  publication_date page_count content_type  \n",
       "0                          31      REPORTS  \n",
       "1                          17      REPORTS  \n",
       "2                          42      REPORTS  \n",
       "3                          33      REPORTS  \n",
       "4                          72      REPORTS  "
      ]
     },
     "execution_count": 6,
     "metadata": {},
     "output_type": "execute_result"
    }
   ],
   "source": [
    "jprs = gather_meta(JPRS)\n",
    "# jprs.to_csv(\"jprs.csv\")\n",
    "jprs.head()"
   ]
  },
  {
   "cell_type": "code",
   "execution_count": null,
   "metadata": {},
   "outputs": [],
   "source": [
    "nis = gather_meta(NIS)\n",
    "# nis.to_csv(\"nis.csv\")\n",
    "nis.head()"
   ]
  },
  {
   "cell_type": "code",
   "execution_count": null,
   "metadata": {},
   "outputs": [],
   "source": [
    "sciab = gather_meta(SCIAB)\n",
    "# sciab.to_csv(\"sciab.csv\")\n",
    "sciab.head()"
   ]
  },
  {
   "cell_type": "code",
   "execution_count": null,
   "metadata": {},
   "outputs": [],
   "source": [
    "grec = gather_meta(GREC)\n",
    "# grec.to_csv(\"grec.csv\")\n",
    "grec.head()"
   ]
  },
  {
   "cell_type": "code",
   "execution_count": null,
   "metadata": {},
   "outputs": [],
   "source": []
  }
 ],
 "metadata": {
  "kernelspec": {
   "display_name": "Python 2",
   "language": "python",
   "name": "python2"
  },
  "language_info": {
   "codemirror_mode": {
    "name": "ipython",
    "version": 3
   },
   "file_extension": ".py",
   "mimetype": "text/x-python",
   "name": "python",
   "nbconvert_exporter": "python",
   "pygments_lexer": "ipython3",
   "version": "3.6.3"
  }
 },
 "nbformat": 4,
 "nbformat_minor": 2
}
