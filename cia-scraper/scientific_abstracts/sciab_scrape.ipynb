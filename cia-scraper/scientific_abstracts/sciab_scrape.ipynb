{
 "cells": [
  {
   "cell_type": "markdown",
   "metadata": {},
   "source": [
    "## CIA READINGROOM > CREST > SCIENTIFIC ABSTRACTS \n",
    "\n",
    "Scraping tests for metadata + pdf retrieval (pre-OCR tasks)<br>10.17.17"
   ]
  },
  {
   "cell_type": "code",
   "execution_count": 1,
   "metadata": {
    "collapsed": true
   },
   "outputs": [],
   "source": [
    "from bs4 import BeautifulSoup\n",
    "from os.path import expanduser\n",
    "import os\n",
    "from tqdm import tqdm\n",
    "import pandas as pd\n",
    "import requests\n",
    "import urllib2"
   ]
  },
  {
   "cell_type": "code",
   "execution_count": 2,
   "metadata": {
    "collapsed": true
   },
   "outputs": [],
   "source": [
    "BASEURL = \"https://www.cia.gov\"\n",
    "PAGINATE_PATH =\"/library/readingroom/collection/scientific-abstracts?page=\"\n",
    "PDF_DIR = expanduser(\"~\") + \"/cia_pdfs2/\"\n",
    "RANGE = 1654 # pages, of 20 docs per page\n",
    "SKIPPED_FILES = []\n",
    "SCIAB = pd.DataFrame(columns=['id','title','classification','publication_date'])"
   ]
  },
  {
   "cell_type": "code",
   "execution_count": 3,
   "metadata": {
    "collapsed": true
   },
   "outputs": [],
   "source": [
    "def retrieve_file(url, name):\n",
    "    filepath = PDF_DIR + name + \".pdf\"\n",
    "    if not os.path.exists(PDF_DIR):\n",
    "        os.makedirs(PDF_DIR)\n",
    "    try:\n",
    "        response = urllib2.urlopen(url)\n",
    "        with open(filepath, 'w+') as f:\n",
    "            f.write(response.read())\n",
    "            f.close()\n",
    "    except urllib2.URLError as e:\n",
    "        print ('WiFi connection perhaps lost !! Trying one more time...')\n",
    "        try:\n",
    "            response = urllib2.urlopen(url)\n",
    "            with open(filepath, 'w+') as f:\n",
    "                f.write(response.read())\n",
    "                f.close()\n",
    "        except:\n",
    "            print ('WiFi connection really lost !! Bailing out..')\n",
    "            print (e)\n",
    "            SKIPPED_FILES.append(name)"
   ]
  },
  {
   "cell_type": "code",
   "execution_count": 4,
   "metadata": {
    "collapsed": true
   },
   "outputs": [],
   "source": [
    "def sciab_df(download_bool):\n",
    "    idx = 0\n",
    "    \n",
    "    for i in tqdm(xrange(RANGE)):\n",
    "        \n",
    "        pagination_link = BASEURL + PAGINATE_PATH + str(i)\n",
    "        pagination_page = requests.get(pagination_link)\n",
    "        p_soup = BeautifulSoup(pagination_page.content, 'lxml')\n",
    "        \n",
    "        for doc_title in p_soup.find_all(\"h4\", class_=\"field-content\"):\n",
    "            \n",
    "            a = doc_title.select_one(\"a\")\n",
    "            link = str(a.get('href') or \"\")\n",
    "            TITLE = str(a.string or \"\")\n",
    "    \n",
    "            doc_page = requests.get(BASEURL + link)\n",
    "            m_soup = BeautifulSoup(doc_page.content, 'lxml')\n",
    "        \n",
    "            PUB_DATE = str(m_soup.select_one(\".field-name-field-pub-date\").select_one(\"span\").get('content') or \"\")\n",
    "            ID = str(m_soup.select_one(\".field-name-field-document-number\").select_one(\".field-item\").string or \"\")\n",
    "            CLASSIFICATION = str(m_soup.select_one(\".field-name-field-original-classification\").select_one(\".field-item\").string or \"\")\n",
    "        \n",
    "            if download_bool:\n",
    "                PDF = m_soup.select_one(\".file\").select_one(\"a\").get('href')\n",
    "                retrieve_file(PDF, ID)\n",
    "            \n",
    "            SCIAB.loc[idx] = [ID, TITLE, CLASSIFICATION, PUB_DATE]\n",
    "            idx+=1       "
   ]
  },
  {
   "cell_type": "code",
   "execution_count": null,
   "metadata": {},
   "outputs": [
    {
     "name": "stderr",
     "output_type": "stream",
     "text": [
      "  2%|▏         | 36/1654 [12:47<7:03:29, 15.70s/it] "
     ]
    }
   ],
   "source": [
    "sciab_df(True)"
   ]
  },
  {
   "cell_type": "code",
   "execution_count": null,
   "metadata": {},
   "outputs": [],
   "source": [
    "sciab[:30]"
   ]
  },
  {
   "cell_type": "code",
   "execution_count": null,
   "metadata": {
    "collapsed": true
   },
   "outputs": [],
   "source": []
  }
 ],
 "metadata": {
  "kernelspec": {
   "display_name": "Python 2",
   "language": "python",
   "name": "python2"
  },
  "language_info": {
   "codemirror_mode": {
    "name": "ipython",
    "version": 2
   },
   "file_extension": ".py",
   "mimetype": "text/x-python",
   "name": "python",
   "nbconvert_exporter": "python",
   "pygments_lexer": "ipython2",
   "version": "2.7.13"
  }
 },
 "nbformat": 4,
 "nbformat_minor": 2
}
