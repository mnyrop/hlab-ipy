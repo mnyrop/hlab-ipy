{
 "cells": [
  {
   "cell_type": "code",
   "execution_count": 1,
   "metadata": {},
   "outputs": [],
   "source": [
    "#!/usr/declass/env/bin/python\n",
    "# -*- coding: utf-8 -*-\n",
    "\n",
    "import os\n",
    "import sys\n",
    "import pymysql\n",
    "import ConfigParser\n",
    "import pandas as pd\n",
    "\n",
    "# get config to connect to local dbs\n",
    "config = ConfigParser.RawConfigParser()\n",
    "config.readfp(open(r'mylogin.cnf'))\n",
    "db_user = config.get('client', 'user')\n",
    "db_pass = config.get('client', 'password')\n",
    "\n",
    "dbs = pymysql.connect(host='history-lab.org', user=db_user, passwd=db_pass, charset='utf8')"
   ]
  },
  {
   "cell_type": "code",
   "execution_count": 2,
   "metadata": {},
   "outputs": [
    {
     "data": {
      "text/plain": [
       "['information_schema',\n",
       " 'authentication',\n",
       " 'bookwormDB',\n",
       " 'clinton_test',\n",
       " 'clinton_test_2',\n",
       " 'ddrs_equity',\n",
       " 'declassification',\n",
       " 'declassification_api',\n",
       " 'declassification_api_test',\n",
       " 'declassification_api_update',\n",
       " 'declassification_cabinet',\n",
       " 'declassification_cables',\n",
       " 'declassification_clinton',\n",
       " 'declassification_clinton_staging',\n",
       " 'declassification_cpdoc',\n",
       " 'declassification_ddrs',\n",
       " 'declassification_foia_dod',\n",
       " 'declassification_frus',\n",
       " 'declassification_frus_update',\n",
       " 'declassification_kissinger',\n",
       " 'declassification_pdb',\n",
       " 'declassification_pdb_test',\n",
       " 'etc',\n",
       " 'historylab_user_information',\n",
       " 'mysql',\n",
       " 'performance_schema',\n",
       " 'predict_history',\n",
       " 'predict_history_new',\n",
       " 'predictify_source',\n",
       " 'predictify_target',\n",
       " 'sys',\n",
       " 'user_information',\n",
       " 'visualizations']"
      ]
     },
     "execution_count": 2,
     "metadata": {},
     "output_type": "execute_result"
    }
   ],
   "source": [
    "list(pd.read_sql(\"SHOW DATABASES;\", con=dbs)['Database'].astype(str))"
   ]
  },
  {
   "cell_type": "code",
   "execution_count": 7,
   "metadata": {},
   "outputs": [],
   "source": [
    "def table_list(db_name):\n",
    "    db_conn = pymysql.connect(host='history-lab.org', user=db_user, passwd=db_pass, db=db_name, charset='utf8')\n",
    "    df = pd.read_sql(\"SHOW TABLES;\", con=db_conn)\n",
    "    return list(df[str(df.columns[0])].astype(str))\n"
   ]
  },
  {
   "cell_type": "code",
   "execution_count": 20,
   "metadata": {},
   "outputs": [
    {
     "data": {
      "text/plain": [
       "['countries',\n",
       " 'country',\n",
       " 'country_cnts_month',\n",
       " 'country_counts',\n",
       " 'doc_cnts',\n",
       " 'doc_cnts_year',\n",
       " 'doc_collection',\n",
       " 'test_table',\n",
       " 'topics',\n",
       " 'topicwords',\n",
       " 'total_doc_counts_monthly']"
      ]
     },
     "execution_count": 20,
     "metadata": {},
     "output_type": "execute_result"
    }
   ],
   "source": [
    "table_list(\"visualizations\")"
   ]
  },
  {
   "cell_type": "code",
   "execution_count": null,
   "metadata": {
    "collapsed": true
   },
   "outputs": [],
   "source": []
  }
 ],
 "metadata": {
  "kernelspec": {
   "display_name": "Python 2",
   "language": "python",
   "name": "python2"
  },
  "language_info": {
   "codemirror_mode": {
    "name": "ipython",
    "version": 2
   },
   "file_extension": ".py",
   "mimetype": "text/x-python",
   "name": "python",
   "nbconvert_exporter": "python",
   "pygments_lexer": "ipython2",
   "version": "2.7.13"
  }
 },
 "nbformat": 4,
 "nbformat_minor": 2
}
