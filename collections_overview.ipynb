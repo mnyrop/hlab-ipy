{
 "cells": [
  {
   "cell_type": "code",
   "execution_count": 1,
   "metadata": {},
   "outputs": [],
   "source": [
    "#!/usr/declass/env/bin/python\n",
    "# -*- coding: utf-8 -*-\n",
    "\n",
    "import sys\n",
    "import pandas as pd\n",
    "import common.helpers as declass\n",
    "\n",
    "config = declass.config(\"common/mylogin.cnf\")\n",
    "\n",
    "dbs = declass.connect_all_dbs(config)"
   ]
  },
  {
   "cell_type": "code",
   "execution_count": 2,
   "metadata": {},
   "outputs": [
    {
     "data": {
      "text/plain": [
       "['information_schema',\n",
       " 'authentication',\n",
       " 'bookwormDB',\n",
       " 'clinton_test',\n",
       " 'clinton_test_2',\n",
       " 'ddrs_equity',\n",
       " 'declassification',\n",
       " 'declassification_api',\n",
       " 'declassification_api_test',\n",
       " 'declassification_api_update',\n",
       " 'declassification_cabinet',\n",
       " 'declassification_cables',\n",
       " 'declassification_clinton',\n",
       " 'declassification_clinton_staging',\n",
       " 'declassification_cpdoc',\n",
       " 'declassification_ddrs',\n",
       " 'declassification_foia_dod',\n",
       " 'declassification_frus',\n",
       " 'declassification_frus_update',\n",
       " 'declassification_kissinger',\n",
       " 'declassification_pdb',\n",
       " 'declassification_pdb_test',\n",
       " 'etc',\n",
       " 'historylab_user_information',\n",
       " 'mysql',\n",
       " 'performance_schema',\n",
       " 'predict_history',\n",
       " 'predict_history_new',\n",
       " 'predictify_source',\n",
       " 'predictify_target',\n",
       " 'sys',\n",
       " 'user_information',\n",
       " 'visualizations']"
      ]
     },
     "execution_count": 2,
     "metadata": {},
     "output_type": "execute_result"
    }
   ],
   "source": [
    "database_list = list(pd.read_sql(\"SHOW DATABASES;\", con=dbs)['Database'].astype(str))\n",
    "database_list"
   ]
  },
  {
   "cell_type": "code",
   "execution_count": 3,
   "metadata": {},
   "outputs": [
    {
     "data": {
      "text/plain": [
       "['Actor',\n",
       " 'ActorIndex',\n",
       " 'ArchivalReference',\n",
       " 'Authority',\n",
       " 'Cable',\n",
       " 'CableDatetime',\n",
       " 'DPwID',\n",
       " 'Disposition',\n",
       " 'Document',\n",
       " 'DocumentPair',\n",
       " 'DocumentPairHuman',\n",
       " 'DocumentPairHumanRedact',\n",
       " 'DocumentRedaction',\n",
       " 'DocumentRedactionText',\n",
       " 'FullCable',\n",
       " 'Kissinger',\n",
       " 'KissingerClean',\n",
       " 'Kissinger_person_doc',\n",
       " 'Kissinger_persons',\n",
       " 'PairCount',\n",
       " 'PropertyIndex',\n",
       " 'RANDIDS',\n",
       " 'RedactOCRDoc',\n",
       " 'RedactOCRid',\n",
       " 'Review',\n",
       " 'SinglePairSet',\n",
       " 'SinglePairs',\n",
       " 'Tags',\n",
       " 'WithdrawnCable',\n",
       " 'consular_people',\n",
       " 'consular_positions',\n",
       " 'frus',\n",
       " 'redactions',\n",
       " 'statedeptcables',\n",
       " 'temp',\n",
       " 'term_index',\n",
       " 'withdrawalcards']"
      ]
     },
     "execution_count": 3,
     "metadata": {},
     "output_type": "execute_result"
    }
   ],
   "source": [
    "declass_db = declass.connect_db(\"declassification\", config)\n",
    "declass.show_tables(declass_db)"
   ]
  },
  {
   "cell_type": "code",
   "execution_count": null,
   "metadata": {
    "collapsed": true
   },
   "outputs": [],
   "source": []
  }
 ],
 "metadata": {
  "kernelspec": {
   "display_name": "Python 2",
   "language": "python",
   "name": "python2"
  },
  "language_info": {
   "codemirror_mode": {
    "name": "ipython",
    "version": 2
   },
   "file_extension": ".py",
   "mimetype": "text/x-python",
   "name": "python",
   "nbconvert_exporter": "python",
   "pygments_lexer": "ipython2",
   "version": "2.7.13"
  }
 },
 "nbformat": 4,
 "nbformat_minor": 2
}
