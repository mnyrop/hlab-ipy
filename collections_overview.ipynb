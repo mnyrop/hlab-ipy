{
 "cells": [
  {
   "cell_type": "code",
   "execution_count": 17,
   "metadata": {
    "collapsed": true
   },
   "outputs": [],
   "source": [
    "#!/usr/declass/env/bin/python\n",
    "# -*- coding: utf-8 -*-\n",
    "\n",
    "import os\n",
    "import sys\n",
    "import pymysql\n",
    "import ConfigParser\n",
    "import pandas as pd\n",
    "\n",
    "import lib.helpers as declass\n",
    "\n",
    "# get config to connect to local dbs\n",
    "config = ConfigParser.RawConfigParser()\n",
    "config.readfp(open(r'mylogin.cnf'))\n",
    "db_user = config.get('client', 'user')\n",
    "db_pass = config.get('client', 'password')\n",
    "\n",
    "db_host = 'history-lab.org'\n",
    "\n",
    "dbs = pymysql.connect(host='history-lab.org', user=db_user, passwd=db_pass, charset='utf8')"
   ]
  },
  {
   "cell_type": "code",
   "execution_count": 18,
   "metadata": {},
   "outputs": [
    {
     "data": {
      "text/plain": [
       "['information_schema',\n",
       " 'authentication',\n",
       " 'bookwormDB',\n",
       " 'clinton_test',\n",
       " 'clinton_test_2',\n",
       " 'ddrs_equity',\n",
       " 'declassification',\n",
       " 'declassification_api',\n",
       " 'declassification_api_test',\n",
       " 'declassification_api_update',\n",
       " 'declassification_cabinet',\n",
       " 'declassification_cables',\n",
       " 'declassification_clinton',\n",
       " 'declassification_clinton_staging',\n",
       " 'declassification_cpdoc',\n",
       " 'declassification_ddrs',\n",
       " 'declassification_foia_dod',\n",
       " 'declassification_frus',\n",
       " 'declassification_frus_update',\n",
       " 'declassification_kissinger',\n",
       " 'declassification_pdb',\n",
       " 'declassification_pdb_test',\n",
       " 'etc',\n",
       " 'historylab_user_information',\n",
       " 'mysql',\n",
       " 'performance_schema',\n",
       " 'predict_history',\n",
       " 'predict_history_new',\n",
       " 'predictify_source',\n",
       " 'predictify_target',\n",
       " 'sys',\n",
       " 'user_information',\n",
       " 'visualizations']"
      ]
     },
     "execution_count": 18,
     "metadata": {},
     "output_type": "execute_result"
    }
   ],
   "source": [
    "database_list = list(pd.read_sql(\"SHOW DATABASES;\", con=dbs)['Database'].astype(str))\n",
    "database_list"
   ]
  },
  {
   "cell_type": "code",
   "execution_count": 19,
   "metadata": {},
   "outputs": [
    {
     "ename": "AttributeError",
     "evalue": "'module' object has no attribute 'connect_db'",
     "output_type": "error",
     "traceback": [
      "\u001b[0;31m---------------------------------------------------------------------------\u001b[0m",
      "\u001b[0;31mAttributeError\u001b[0m                            Traceback (most recent call last)",
      "\u001b[0;32m<ipython-input-19-ea26bcdfe2b3>\u001b[0m in \u001b[0;36m<module>\u001b[0;34m()\u001b[0m\n\u001b[0;32m----> 1\u001b[0;31m \u001b[0mdeclass_db\u001b[0m \u001b[0;34m=\u001b[0m \u001b[0mdeclass\u001b[0m\u001b[0;34m.\u001b[0m\u001b[0mconnect_db\u001b[0m\u001b[0;34m(\u001b[0m\u001b[0mdb_host\u001b[0m\u001b[0;34m,\u001b[0m\u001b[0mdb_user\u001b[0m\u001b[0;34m,\u001b[0m\u001b[0mdb_pass\u001b[0m\u001b[0;34m,\u001b[0m\u001b[0;34m\"declassification\"\u001b[0m\u001b[0;34m)\u001b[0m\u001b[0;34m\u001b[0m\u001b[0m\n\u001b[0m\u001b[1;32m      2\u001b[0m \u001b[0mdeclass\u001b[0m\u001b[0;34m.\u001b[0m\u001b[0mshow_tables\u001b[0m\u001b[0;34m(\u001b[0m\u001b[0mdeclass_db\u001b[0m\u001b[0;34m)\u001b[0m\u001b[0;34m\u001b[0m\u001b[0m\n",
      "\u001b[0;31mAttributeError\u001b[0m: 'module' object has no attribute 'connect_db'"
     ]
    }
   ],
   "source": [
    "declass_db = declass.connect_db(db_host,db_user,db_pass,\"declassification\")\n",
    "declass.show_tables(declass_db)"
   ]
  },
  {
   "cell_type": "code",
   "execution_count": 5,
   "metadata": {
    "collapsed": true
   },
   "outputs": [],
   "source": [
    "declassification_db = pymysql.connect(host='history-lab.org', user=db_user, passwd=db_pass, db=\"declassification\", charset='utf8')"
   ]
  },
  {
   "cell_type": "code",
   "execution_count": 6,
   "metadata": {},
   "outputs": [
    {
     "data": {
      "text/plain": [
       "0    91686\n",
       "Name: COUNT(*), dtype: int64"
      ]
     },
     "execution_count": 6,
     "metadata": {},
     "output_type": "execute_result"
    }
   ],
   "source": [
    "full_cable_count = pd.read_sql(\"SELECT COUNT(*) FROM FullCable\", con=declassification_db)[\"COUNT(*)\"]\n",
    "full_cable_count"
   ]
  },
  {
   "cell_type": "code",
   "execution_count": 7,
   "metadata": {},
   "outputs": [
    {
     "data": {
      "text/html": [
       "<div>\n",
       "<style>\n",
       "    .dataframe thead tr:only-child th {\n",
       "        text-align: right;\n",
       "    }\n",
       "\n",
       "    .dataframe thead th {\n",
       "        text-align: left;\n",
       "    }\n",
       "\n",
       "    .dataframe tbody tr th {\n",
       "        vertical-align: top;\n",
       "    }\n",
       "</style>\n",
       "<table border=\"1\" class=\"dataframe\">\n",
       "  <thead>\n",
       "    <tr style=\"text-align: right;\">\n",
       "      <th></th>\n",
       "      <th>cableID</th>\n",
       "      <th>office</th>\n",
       "      <th>docID</th>\n",
       "      <th>channel</th>\n",
       "      <th>msgtext</th>\n",
       "      <th>type</th>\n",
       "    </tr>\n",
       "  </thead>\n",
       "  <tbody>\n",
       "    <tr>\n",
       "      <th>0</th>\n",
       "      <td>1</td>\n",
       "      <td>ORIGIN PA</td>\n",
       "      <td>1</td>\n",
       "      <td>n/a</td>\n",
       "      <td></td>\n",
       "      <td>GC</td>\n",
       "    </tr>\n",
       "    <tr>\n",
       "      <th>1</th>\n",
       "      <td>2</td>\n",
       "      <td>ORIGIN NEA</td>\n",
       "      <td>2</td>\n",
       "      <td>n/a</td>\n",
       "      <td></td>\n",
       "      <td>GC</td>\n",
       "    </tr>\n",
       "    <tr>\n",
       "      <th>2</th>\n",
       "      <td>3</td>\n",
       "      <td>ORIGIN NEA</td>\n",
       "      <td>3</td>\n",
       "      <td>n/a</td>\n",
       "      <td></td>\n",
       "      <td>GC</td>\n",
       "    </tr>\n",
       "    <tr>\n",
       "      <th>3</th>\n",
       "      <td>4</td>\n",
       "      <td>ORIGIN NEA</td>\n",
       "      <td>4</td>\n",
       "      <td>n/a</td>\n",
       "      <td></td>\n",
       "      <td>GC</td>\n",
       "    </tr>\n",
       "    <tr>\n",
       "      <th>4</th>\n",
       "      <td>5</td>\n",
       "      <td>ORIGIN ARA</td>\n",
       "      <td>5</td>\n",
       "      <td>n/a</td>\n",
       "      <td></td>\n",
       "      <td>ME</td>\n",
       "    </tr>\n",
       "    <tr>\n",
       "      <th>5</th>\n",
       "      <td>6</td>\n",
       "      <td>ACTION EUR</td>\n",
       "      <td>6</td>\n",
       "      <td>n/a</td>\n",
       "      <td></td>\n",
       "      <td>ME</td>\n",
       "    </tr>\n",
       "    <tr>\n",
       "      <th>6</th>\n",
       "      <td>7</td>\n",
       "      <td>ACTION S</td>\n",
       "      <td>7</td>\n",
       "      <td>n/a</td>\n",
       "      <td></td>\n",
       "      <td>DN</td>\n",
       "    </tr>\n",
       "    <tr>\n",
       "      <th>7</th>\n",
       "      <td>8</td>\n",
       "      <td>ORIGIN L</td>\n",
       "      <td>8</td>\n",
       "      <td>n/a</td>\n",
       "      <td></td>\n",
       "      <td>CC</td>\n",
       "    </tr>\n",
       "    <tr>\n",
       "      <th>8</th>\n",
       "      <td>9</td>\n",
       "      <td>ORIGIN DLOS</td>\n",
       "      <td>9</td>\n",
       "      <td>n/a</td>\n",
       "      <td></td>\n",
       "      <td>ME</td>\n",
       "    </tr>\n",
       "    <tr>\n",
       "      <th>9</th>\n",
       "      <td>10</td>\n",
       "      <td>ACTION S</td>\n",
       "      <td>10</td>\n",
       "      <td>n/a</td>\n",
       "      <td></td>\n",
       "      <td>DN</td>\n",
       "    </tr>\n",
       "  </tbody>\n",
       "</table>\n",
       "</div>"
      ],
      "text/plain": [
       "   cableID       office  docID channel msgtext type\n",
       "0        1    ORIGIN PA      1     n/a           GC\n",
       "1        2   ORIGIN NEA      2     n/a           GC\n",
       "2        3   ORIGIN NEA      3     n/a           GC\n",
       "3        4   ORIGIN NEA      4     n/a           GC\n",
       "4        5   ORIGIN ARA      5     n/a           ME\n",
       "5        6   ACTION EUR      6     n/a           ME\n",
       "6        7     ACTION S      7     n/a           DN\n",
       "7        8     ORIGIN L      8     n/a           CC\n",
       "8        9  ORIGIN DLOS      9     n/a           ME\n",
       "9       10     ACTION S     10     n/a           DN"
      ]
     },
     "execution_count": 7,
     "metadata": {},
     "output_type": "execute_result"
    }
   ],
   "source": [
    "full_cables = pd.read_sql(\"SELECT * FROM FullCable\", con=declassification_db)\n",
    "full_cables[:10]"
   ]
  },
  {
   "cell_type": "code",
   "execution_count": null,
   "metadata": {
    "collapsed": true
   },
   "outputs": [],
   "source": []
  }
 ],
 "metadata": {
  "kernelspec": {
   "display_name": "Python 2",
   "language": "python",
   "name": "python2"
  },
  "language_info": {
   "codemirror_mode": {
    "name": "ipython",
    "version": 2
   },
   "file_extension": ".py",
   "mimetype": "text/x-python",
   "name": "python",
   "nbconvert_exporter": "python",
   "pygments_lexer": "ipython2",
   "version": "2.7.13"
  }
 },
 "nbformat": 4,
 "nbformat_minor": 2
}
